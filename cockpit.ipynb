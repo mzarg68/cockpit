{
 "cells": [
  {
   "cell_type": "code",
   "execution_count": 30,
   "metadata": {},
   "outputs": [],
   "source": [
    "import os\n",
    "import pandas as pd\n",
    "import setup\n",
    "from datetime import datetime\n",
    "import warnings\n",
    "import numpy"
   ]
  },
  {
   "cell_type": "code",
   "execution_count": 31,
   "metadata": {},
   "outputs": [],
   "source": [
    "warnings.filterwarnings(\"ignore\")"
   ]
  },
  {
   "cell_type": "code",
   "execution_count": 32,
   "metadata": {},
   "outputs": [],
   "source": [
    "lnfile = 'input/lpbra540611100_0000_20241204-081122_5808.xlsx'"
   ]
  },
  {
   "cell_type": "code",
   "execution_count": 37,
   "metadata": {},
   "outputs": [],
   "source": [
    "df = pd.read_excel(lnfile, sheet_name='data')"
   ]
  },
  {
   "cell_type": "code",
   "execution_count": 38,
   "metadata": {},
   "outputs": [
    {
     "name": "stdout",
     "output_type": "stream",
     "text": [
      ">Table size: Rows=323947 x Columns=13\n"
     ]
    }
   ],
   "source": [
    "rows, cols = df.shape\n",
    "print(f'>Table size: Rows={rows} x Columns={cols}')"
   ]
  },
  {
   "cell_type": "code",
   "execution_count": 39,
   "metadata": {},
   "outputs": [
    {
     "name": "stdout",
     "output_type": "stream",
     "text": [
      ">Columns names renamed\n"
     ]
    }
   ],
   "source": [
    "cols_renamed = setup.cols_names\n",
    "df.columns = cols_renamed\n",
    "print(f'>Columns names renamed')"
   ]
  },
  {
   "cell_type": "code",
   "execution_count": 42,
   "metadata": {},
   "outputs": [
    {
     "name": "stdout",
     "output_type": "stream",
     "text": [
      ">All -NaN- removed\n"
     ]
    }
   ],
   "source": [
    "df['DESC'].fillna('TBD',inplace=True)\n",
    "df.fillna(0,inplace=True)\n",
    "df['ACCOUNT'] = df['ACCOUNT'].astype('int64')\n",
    "df['CC'] = df['CC'].astype('int64')\n",
    "print(f'>All -NaN- removed')"
   ]
  },
  {
   "cell_type": "code",
   "execution_count": 43,
   "metadata": {},
   "outputs": [
    {
     "name": "stdout",
     "output_type": "stream",
     "text": [
      ">New columns YEAR and MONTH created\n"
     ]
    }
   ],
   "source": [
    "df['DTM_DOC'] = pd.to_datetime(df['DTM_DOC'], errors='coerce')\n",
    "df['YEAR'] = df['DTM_DOC'].dt.year\n",
    "df['MONTH'] = df['DTM_DOC'].dt.month\n",
    "print(f'>New columns YEAR and MONTH created')"
   ]
  },
  {
   "cell_type": "code",
   "execution_count": 44,
   "metadata": {},
   "outputs": [
    {
     "name": "stdout",
     "output_type": "stream",
     "text": [
      "Total Debit=4_433_331_291; Total Credit=4_422_093_129\n"
     ]
    }
   ],
   "source": [
    "tdebit = df['DEBIT'].sum()\n",
    "tcredit = df['CREDIT'].sum()\n",
    "print(f'Total Debit={tdebit:_.0f}; Total Credit={tcredit:_.0f}')"
   ]
  },
  {
   "cell_type": "code",
   "execution_count": 45,
   "metadata": {},
   "outputs": [
    {
     "name": "stdout",
     "output_type": "stream",
     "text": [
      ">Table size: Rows=1900 x Columns=8\n"
     ]
    }
   ],
   "source": [
    "df_group = df.groupby(setup.group_by, as_index=False).agg({\n",
    "    'DEBIT': 'sum', 'CREDIT': 'sum'})\n",
    "df_group['BALANCE'] = df_group['DEBIT'] - df_group['CREDIT']\n",
    "#df_group['CC'] = df_group['CC'].astype('int64')\n",
    "df_group['RCD'] = datetime.now()\n",
    "df_group.reindex()\n",
    "shape = df_group.shape\n",
    "print(f'>Table size: Rows={shape[0]} x Columns={shape[1]}')"
   ]
  },
  {
   "cell_type": "code",
   "execution_count": 51,
   "metadata": {},
   "outputs": [
    {
     "name": "stdout",
     "output_type": "stream",
     "text": [
      "Total Debit=4_433_331_291; Total Credit=4_422_093_129; Total Credit=11_238_162\n"
     ]
    }
   ],
   "source": [
    "tdebit_grp = df_group['DEBIT'].sum()\n",
    "tcredit_grp = df_group['CREDIT'].sum()\n",
    "tbalance_grp = df_group['BALANCE'].sum()\n",
    "print(f'Total Debit={tdebit_grp:_.0f}; Total Credit={tcredit_grp:_.0f}; Total Credit={tbalance_grp:_.0f}')"
   ]
  },
  {
   "cell_type": "code",
   "execution_count": 31,
   "metadata": {},
   "outputs": [],
   "source": [
    "cc_df = list(df['CC'].unique())"
   ]
  },
  {
   "cell_type": "code",
   "execution_count": null,
   "metadata": {},
   "outputs": [],
   "source": [
    "len(cc_df)"
   ]
  },
  {
   "cell_type": "code",
   "execution_count": 33,
   "metadata": {},
   "outputs": [],
   "source": [
    "cc_df_group = list(df_group['CC'].unique())"
   ]
  },
  {
   "cell_type": "code",
   "execution_count": null,
   "metadata": {},
   "outputs": [],
   "source": [
    "len(cc_df_group)"
   ]
  },
  {
   "cell_type": "code",
   "execution_count": null,
   "metadata": {},
   "outputs": [],
   "source": []
  }
 ],
 "metadata": {
  "kernelspec": {
   "display_name": "Python 3",
   "language": "python",
   "name": "python3"
  },
  "language_info": {
   "codemirror_mode": {
    "name": "ipython",
    "version": 3
   },
   "file_extension": ".py",
   "mimetype": "text/x-python",
   "name": "python",
   "nbconvert_exporter": "python",
   "pygments_lexer": "ipython3",
   "version": "3.11.3"
  }
 },
 "nbformat": 4,
 "nbformat_minor": 2
}
