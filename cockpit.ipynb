{
 "cells": [
  {
   "cell_type": "code",
   "execution_count": 1,
   "metadata": {},
   "outputs": [],
   "source": [
    "import os\n",
    "import pandas as pd\n",
    "import setup\n",
    "from datetime import datetime"
   ]
  },
  {
   "cell_type": "code",
   "execution_count": 2,
   "metadata": {},
   "outputs": [],
   "source": [
    "lnfile = r'C:\\AUNDE\\bots\\cockpit\\2upload\\lpbra540611100_0000_20241120-140902_69460.xlsx'"
   ]
  },
  {
   "cell_type": "code",
   "execution_count": 3,
   "metadata": {},
   "outputs": [
    {
     "name": "stderr",
     "output_type": "stream",
     "text": [
      "c:\\Users\\Marcelo Zarate\\AppData\\Local\\Programs\\Python\\Python312\\Lib\\site-packages\\openpyxl\\styles\\stylesheet.py:237: UserWarning: Workbook contains no default style, apply openpyxl's default\n",
      "  warn(\"Workbook contains no default style, apply openpyxl's default\")\n"
     ]
    }
   ],
   "source": [
    "df = pd.read_excel(lnfile, sheet_name='data')"
   ]
  },
  {
   "cell_type": "code",
   "execution_count": 4,
   "metadata": {},
   "outputs": [
    {
     "data": {
      "text/plain": [
       "(266873, 13)"
      ]
     },
     "execution_count": 4,
     "metadata": {},
     "output_type": "execute_result"
    }
   ],
   "source": [
    "df.shape"
   ]
  },
  {
   "cell_type": "code",
   "execution_count": 5,
   "metadata": {},
   "outputs": [],
   "source": [
    "cols_renamed = setup.cols_names"
   ]
  },
  {
   "cell_type": "code",
   "execution_count": 6,
   "metadata": {},
   "outputs": [],
   "source": [
    "df.columns = cols_renamed"
   ]
  },
  {
   "cell_type": "code",
   "execution_count": 7,
   "metadata": {},
   "outputs": [],
   "source": [
    "df['DTM_DOC'] = pd.to_datetime(df['DTM_DOC'], errors='coerce')\n",
    "df['YEAR'] = df['DTM_DOC'].dt.year\n",
    "df['MONTH'] = df['DTM_DOC'].dt.month\n"
   ]
  },
  {
   "cell_type": "code",
   "execution_count": 8,
   "metadata": {},
   "outputs": [
    {
     "data": {
      "text/html": [
       "<div>\n",
       "<style scoped>\n",
       "    .dataframe tbody tr th:only-of-type {\n",
       "        vertical-align: middle;\n",
       "    }\n",
       "\n",
       "    .dataframe tbody tr th {\n",
       "        vertical-align: top;\n",
       "    }\n",
       "\n",
       "    .dataframe thead th {\n",
       "        text-align: right;\n",
       "    }\n",
       "</style>\n",
       "<table border=\"1\" class=\"dataframe\">\n",
       "  <thead>\n",
       "    <tr style=\"text-align: right;\">\n",
       "      <th></th>\n",
       "      <th>YEAR</th>\n",
       "      <th>MONTH</th>\n",
       "      <th>CC</th>\n",
       "      <th>ACCOUNT</th>\n",
       "      <th>DEBIT</th>\n",
       "      <th>CREDIT</th>\n",
       "      <th>BALANCE</th>\n",
       "      <th>RCD</th>\n",
       "    </tr>\n",
       "  </thead>\n",
       "  <tbody>\n",
       "    <tr>\n",
       "      <th>0</th>\n",
       "      <td>2024</td>\n",
       "      <td>10</td>\n",
       "      <td>110</td>\n",
       "      <td>32101005</td>\n",
       "      <td>131.66</td>\n",
       "      <td>0.00</td>\n",
       "      <td>131.66</td>\n",
       "      <td>2024-11-25 15:30:40.816556</td>\n",
       "    </tr>\n",
       "    <tr>\n",
       "      <th>1</th>\n",
       "      <td>2024</td>\n",
       "      <td>10</td>\n",
       "      <td>110</td>\n",
       "      <td>32103001</td>\n",
       "      <td>2915.61</td>\n",
       "      <td>0.00</td>\n",
       "      <td>2915.61</td>\n",
       "      <td>2024-11-25 15:30:40.816556</td>\n",
       "    </tr>\n",
       "    <tr>\n",
       "      <th>2</th>\n",
       "      <td>2024</td>\n",
       "      <td>10</td>\n",
       "      <td>110</td>\n",
       "      <td>32103003</td>\n",
       "      <td>16.80</td>\n",
       "      <td>0.00</td>\n",
       "      <td>16.80</td>\n",
       "      <td>2024-11-25 15:30:40.816556</td>\n",
       "    </tr>\n",
       "    <tr>\n",
       "      <th>3</th>\n",
       "      <td>2024</td>\n",
       "      <td>10</td>\n",
       "      <td>110</td>\n",
       "      <td>32103004</td>\n",
       "      <td>946.71</td>\n",
       "      <td>344.36</td>\n",
       "      <td>602.35</td>\n",
       "      <td>2024-11-25 15:30:40.816556</td>\n",
       "    </tr>\n",
       "    <tr>\n",
       "      <th>4</th>\n",
       "      <td>2024</td>\n",
       "      <td>10</td>\n",
       "      <td>110</td>\n",
       "      <td>32106001</td>\n",
       "      <td>201208.08</td>\n",
       "      <td>0.00</td>\n",
       "      <td>201208.08</td>\n",
       "      <td>2024-11-25 15:30:40.816556</td>\n",
       "    </tr>\n",
       "    <tr>\n",
       "      <th>...</th>\n",
       "      <td>...</td>\n",
       "      <td>...</td>\n",
       "      <td>...</td>\n",
       "      <td>...</td>\n",
       "      <td>...</td>\n",
       "      <td>...</td>\n",
       "      <td>...</td>\n",
       "      <td>...</td>\n",
       "    </tr>\n",
       "    <tr>\n",
       "      <th>1974</th>\n",
       "      <td>2024</td>\n",
       "      <td>10</td>\n",
       "      <td>4099</td>\n",
       "      <td>31103003</td>\n",
       "      <td>2708.74</td>\n",
       "      <td>0.00</td>\n",
       "      <td>2708.74</td>\n",
       "      <td>2024-11-25 15:30:40.816556</td>\n",
       "    </tr>\n",
       "    <tr>\n",
       "      <th>1975</th>\n",
       "      <td>2024</td>\n",
       "      <td>10</td>\n",
       "      <td>4099</td>\n",
       "      <td>31103004</td>\n",
       "      <td>12476.52</td>\n",
       "      <td>0.00</td>\n",
       "      <td>12476.52</td>\n",
       "      <td>2024-11-25 15:30:40.816556</td>\n",
       "    </tr>\n",
       "    <tr>\n",
       "      <th>1976</th>\n",
       "      <td>2024</td>\n",
       "      <td>10</td>\n",
       "      <td>4099</td>\n",
       "      <td>31104001</td>\n",
       "      <td>392.92</td>\n",
       "      <td>392.92</td>\n",
       "      <td>0.00</td>\n",
       "      <td>2024-11-25 15:30:40.816556</td>\n",
       "    </tr>\n",
       "    <tr>\n",
       "      <th>1977</th>\n",
       "      <td>2024</td>\n",
       "      <td>10</td>\n",
       "      <td>4099</td>\n",
       "      <td>31202001</td>\n",
       "      <td>605862.19</td>\n",
       "      <td>133758.43</td>\n",
       "      <td>472103.76</td>\n",
       "      <td>2024-11-25 15:30:40.816556</td>\n",
       "    </tr>\n",
       "    <tr>\n",
       "      <th>1978</th>\n",
       "      <td>2024</td>\n",
       "      <td>10</td>\n",
       "      <td>4099</td>\n",
       "      <td>32111999</td>\n",
       "      <td>75301.87</td>\n",
       "      <td>7254.97</td>\n",
       "      <td>68046.90</td>\n",
       "      <td>2024-11-25 15:30:40.816556</td>\n",
       "    </tr>\n",
       "  </tbody>\n",
       "</table>\n",
       "<p>1979 rows × 8 columns</p>\n",
       "</div>"
      ],
      "text/plain": [
       "      YEAR  MONTH    CC   ACCOUNT      DEBIT     CREDIT    BALANCE  \\\n",
       "0     2024     10   110  32101005     131.66       0.00     131.66   \n",
       "1     2024     10   110  32103001    2915.61       0.00    2915.61   \n",
       "2     2024     10   110  32103003      16.80       0.00      16.80   \n",
       "3     2024     10   110  32103004     946.71     344.36     602.35   \n",
       "4     2024     10   110  32106001  201208.08       0.00  201208.08   \n",
       "...    ...    ...   ...       ...        ...        ...        ...   \n",
       "1974  2024     10  4099  31103003    2708.74       0.00    2708.74   \n",
       "1975  2024     10  4099  31103004   12476.52       0.00   12476.52   \n",
       "1976  2024     10  4099  31104001     392.92     392.92       0.00   \n",
       "1977  2024     10  4099  31202001  605862.19  133758.43  472103.76   \n",
       "1978  2024     10  4099  32111999   75301.87    7254.97   68046.90   \n",
       "\n",
       "                            RCD  \n",
       "0    2024-11-25 15:30:40.816556  \n",
       "1    2024-11-25 15:30:40.816556  \n",
       "2    2024-11-25 15:30:40.816556  \n",
       "3    2024-11-25 15:30:40.816556  \n",
       "4    2024-11-25 15:30:40.816556  \n",
       "...                         ...  \n",
       "1974 2024-11-25 15:30:40.816556  \n",
       "1975 2024-11-25 15:30:40.816556  \n",
       "1976 2024-11-25 15:30:40.816556  \n",
       "1977 2024-11-25 15:30:40.816556  \n",
       "1978 2024-11-25 15:30:40.816556  \n",
       "\n",
       "[1979 rows x 8 columns]"
      ]
     },
     "execution_count": 8,
     "metadata": {},
     "output_type": "execute_result"
    }
   ],
   "source": [
    "df_group = df.groupby(setup.group_by, as_index=False).agg({\n",
    "    'DEBIT': 'sum', 'CREDIT': 'sum'})\n",
    "df_group['BALANCE'] = df_group['DEBIT'] - df_group['CREDIT']\n",
    "df_group['CC'] = df_group['CC'].astype('int64')\n",
    "df_group['RCD'] = datetime.now()\n",
    "df_group.reindex()"
   ]
  },
  {
   "cell_type": "code",
   "execution_count": 9,
   "metadata": {},
   "outputs": [
    {
     "data": {
      "text/plain": [
       "(1979, 8)"
      ]
     },
     "execution_count": 9,
     "metadata": {},
     "output_type": "execute_result"
    }
   ],
   "source": [
    "df_group.shape"
   ]
  },
  {
   "cell_type": "code",
   "execution_count": 10,
   "metadata": {},
   "outputs": [],
   "source": [
    "df_group['GR'] = df_group['ACCOUNT'].astype(str).str[:5]"
   ]
  },
  {
   "cell_type": "code",
   "execution_count": 11,
   "metadata": {},
   "outputs": [
    {
     "data": {
      "text/plain": [
       "Index(['YEAR', 'MONTH', 'CC', 'ACCOUNT', 'DEBIT', 'CREDIT', 'BALANCE', 'RCD',\n",
       "       'GR'],\n",
       "      dtype='object')"
      ]
     },
     "execution_count": 11,
     "metadata": {},
     "output_type": "execute_result"
    }
   ],
   "source": [
    "df_group.columns"
   ]
  },
  {
   "cell_type": "code",
   "execution_count": 13,
   "metadata": {},
   "outputs": [],
   "source": [
    "df_accounts = df[['ACCOUNT','DESCRIPTION']].drop_duplicates()"
   ]
  },
  {
   "cell_type": "code",
   "execution_count": 14,
   "metadata": {},
   "outputs": [
    {
     "data": {
      "text/plain": [
       "Index(['ACCOUNT', 'DESCRIPTION', 'DTM_DOC', 'BATCH', 'DOC', 'TBD', 'PJUR',\n",
       "       'DESC', 'REMARK', 'CC', 'DEBIT', 'CREDIT', 'BALANCE', 'YEAR', 'MONTH'],\n",
       "      dtype='object')"
      ]
     },
     "execution_count": 14,
     "metadata": {},
     "output_type": "execute_result"
    }
   ],
   "source": [
    "df.columns"
   ]
  },
  {
   "cell_type": "code",
   "execution_count": 15,
   "metadata": {},
   "outputs": [
    {
     "data": {
      "text/html": [
       "<div>\n",
       "<style scoped>\n",
       "    .dataframe tbody tr th:only-of-type {\n",
       "        vertical-align: middle;\n",
       "    }\n",
       "\n",
       "    .dataframe tbody tr th {\n",
       "        vertical-align: top;\n",
       "    }\n",
       "\n",
       "    .dataframe thead th {\n",
       "        text-align: right;\n",
       "    }\n",
       "</style>\n",
       "<table border=\"1\" class=\"dataframe\">\n",
       "  <thead>\n",
       "    <tr style=\"text-align: right;\">\n",
       "      <th></th>\n",
       "      <th>ACCOUNT</th>\n",
       "      <th>DESCRIPTION</th>\n",
       "    </tr>\n",
       "  </thead>\n",
       "  <tbody>\n",
       "    <tr>\n",
       "      <th>0</th>\n",
       "      <td>31101001</td>\n",
       "      <td>VENDAS MERCADO INTERNO</td>\n",
       "    </tr>\n",
       "    <tr>\n",
       "      <th>9518</th>\n",
       "      <td>31101002</td>\n",
       "      <td>VENDAS MERCADO EXTERNO</td>\n",
       "    </tr>\n",
       "    <tr>\n",
       "      <th>10395</th>\n",
       "      <td>31101004</td>\n",
       "      <td>VENDA EQUIPARADA EXPORTAÇÃO</td>\n",
       "    </tr>\n",
       "    <tr>\n",
       "      <th>10486</th>\n",
       "      <td>31101999</td>\n",
       "      <td>TRANSITORIA DE VENDAS</td>\n",
       "    </tr>\n",
       "    <tr>\n",
       "      <th>22105</th>\n",
       "      <td>31103001</td>\n",
       "      <td>ICMS</td>\n",
       "    </tr>\n",
       "    <tr>\n",
       "      <th>...</th>\n",
       "      <td>...</td>\n",
       "      <td>...</td>\n",
       "    </tr>\n",
       "    <tr>\n",
       "      <th>265992</th>\n",
       "      <td>42111014</td>\n",
       "      <td>FRETES EVENTUAIS</td>\n",
       "    </tr>\n",
       "    <tr>\n",
       "      <th>266059</th>\n",
       "      <td>42111017</td>\n",
       "      <td>COMUNICAÇÕES</td>\n",
       "    </tr>\n",
       "    <tr>\n",
       "      <th>266060</th>\n",
       "      <td>42111019</td>\n",
       "      <td>SERVIÇOS PRESTADOS QUALIDADE</td>\n",
       "    </tr>\n",
       "    <tr>\n",
       "      <th>266109</th>\n",
       "      <td>42111020</td>\n",
       "      <td>FRETES S/ MATERIA PRIMA</td>\n",
       "    </tr>\n",
       "    <tr>\n",
       "      <th>266207</th>\n",
       "      <td>43101002</td>\n",
       "      <td>VARIAÇÃO ESTOQUE PROD.PROCESSO</td>\n",
       "    </tr>\n",
       "  </tbody>\n",
       "</table>\n",
       "<p>154 rows × 2 columns</p>\n",
       "</div>"
      ],
      "text/plain": [
       "         ACCOUNT                     DESCRIPTION\n",
       "0       31101001          VENDAS MERCADO INTERNO\n",
       "9518    31101002          VENDAS MERCADO EXTERNO\n",
       "10395   31101004     VENDA EQUIPARADA EXPORTAÇÃO\n",
       "10486   31101999           TRANSITORIA DE VENDAS\n",
       "22105   31103001                            ICMS\n",
       "...          ...                             ...\n",
       "265992  42111014                FRETES EVENTUAIS\n",
       "266059  42111017                    COMUNICAÇÕES\n",
       "266060  42111019    SERVIÇOS PRESTADOS QUALIDADE\n",
       "266109  42111020         FRETES S/ MATERIA PRIMA\n",
       "266207  43101002  VARIAÇÃO ESTOQUE PROD.PROCESSO\n",
       "\n",
       "[154 rows x 2 columns]"
      ]
     },
     "execution_count": 15,
     "metadata": {},
     "output_type": "execute_result"
    }
   ],
   "source": [
    "df_accounts"
   ]
  },
  {
   "cell_type": "code",
   "execution_count": 16,
   "metadata": {},
   "outputs": [
    {
     "data": {
      "text/plain": [
       "Index(['YEAR', 'MONTH', 'CC', 'ACCOUNT', 'DEBIT', 'CREDIT', 'BALANCE', 'RCD',\n",
       "       'GR'],\n",
       "      dtype='object')"
      ]
     },
     "execution_count": 16,
     "metadata": {},
     "output_type": "execute_result"
    }
   ],
   "source": [
    "df_group.columns"
   ]
  },
  {
   "cell_type": "code",
   "execution_count": 17,
   "metadata": {},
   "outputs": [],
   "source": [
    "df_group = df_group.merge(df_accounts,on='ACCOUNT',how='left')"
   ]
  },
  {
   "cell_type": "code",
   "execution_count": 18,
   "metadata": {},
   "outputs": [
    {
     "data": {
      "text/plain": [
       "Index(['YEAR', 'MONTH', 'CC', 'ACCOUNT', 'DEBIT', 'CREDIT', 'BALANCE', 'RCD',\n",
       "       'GR', 'DESCRIPTION'],\n",
       "      dtype='object')"
      ]
     },
     "execution_count": 18,
     "metadata": {},
     "output_type": "execute_result"
    }
   ],
   "source": [
    "df_group.columns"
   ]
  },
  {
   "cell_type": "code",
   "execution_count": 1,
   "metadata": {},
   "outputs": [],
   "source": [
    "import setup"
   ]
  },
  {
   "cell_type": "code",
   "execution_count": 2,
   "metadata": {},
   "outputs": [
    {
     "data": {
      "text/plain": [
       "['Conta contábil',\n",
       " 'Descrição',\n",
       " 'Data documento',\n",
       " 'Lote',\n",
       " 'Documento',\n",
       " None,\n",
       " 'P. juríd.',\n",
       " 'Descrição',\n",
       " 'Referência',\n",
       " 'CC',\n",
       " 'Débito',\n",
       " 'Crédito',\n",
       " 'Saldo']"
      ]
     },
     "execution_count": 2,
     "metadata": {},
     "output_type": "execute_result"
    }
   ],
   "source": [
    "setup.check_xls_values['cols_ok']"
   ]
  },
  {
   "cell_type": "code",
   "execution_count": null,
   "metadata": {},
   "outputs": [],
   "source": []
  }
 ],
 "metadata": {
  "kernelspec": {
   "display_name": "Python 3",
   "language": "python",
   "name": "python3"
  },
  "language_info": {
   "codemirror_mode": {
    "name": "ipython",
    "version": 3
   },
   "file_extension": ".py",
   "mimetype": "text/x-python",
   "name": "python",
   "nbconvert_exporter": "python",
   "pygments_lexer": "ipython3",
   "version": "3.12.6"
  }
 },
 "nbformat": 4,
 "nbformat_minor": 2
}
